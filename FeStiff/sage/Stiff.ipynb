{
 "cells": [
  {
   "cell_type": "markdown",
   "metadata": {},
   "source": [
    "# Stifness matrix of the P2 triangle element."
   ]
  },
  {
   "cell_type": "code",
   "execution_count": 19,
   "metadata": {},
   "outputs": [],
   "source": [
    "x,y=var(\"x,y\")"
   ]
  },
  {
   "cell_type": "markdown",
   "metadata": {},
   "source": [
    "The barycentric coordinates on the reference triangle:"
   ]
  },
  {
   "cell_type": "code",
   "execution_count": 20,
   "metadata": {},
   "outputs": [],
   "source": [
    "lamb=[1-x-y, x,y]"
   ]
  },
  {
   "cell_type": "markdown",
   "metadata": {},
   "source": [
    "The P2 basis functions:"
   ]
  },
  {
   "cell_type": "code",
   "execution_count": 21,
   "metadata": {},
   "outputs": [],
   "source": [
    "phi=[2*l*(l-1/2) for l in lamb]+[4*lamb[i]*lamb[(i+1)%3] for i in range(0,3)]"
   ]
  },
  {
   "cell_type": "markdown",
   "metadata": {},
   "source": [
    "Verify that basis functions value is zero or one where it should be:"
   ]
  },
  {
   "cell_type": "code",
   "execution_count": 22,
   "metadata": {},
   "outputs": [],
   "source": [
    "points=[[0,0],[1,0],[0,1],[1/2,0],[1/2,1/2],[0,1/2]]\n",
    "A=matrix(6,6)\n",
    "for i in range(0,6):\n",
    "    f=phi[i]\n",
    "    for j in range(0,6):\n",
    "        A[i,j]=f(x=points[j][0],y=points[j][1])\n",
    "assert(A==identity_matrix(6,6))"
   ]
  },
  {
   "cell_type": "markdown",
   "metadata": {},
   "source": [
    "Gradients of  basis functions on the reference triangle:"
   ]
  },
  {
   "cell_type": "code",
   "execution_count": 23,
   "metadata": {},
   "outputs": [],
   "source": [
    "grads=[[diff(f,x),diff(f,y)] for f in phi]"
   ]
  },
  {
   "cell_type": "markdown",
   "metadata": {},
   "source": [
    "Gradients at quadrature points (midpoints of the edges):\n",
    "\n",
    "$gq_{i,j}$= gradient of ith function at jth quadrature point."
   ]
  },
  {
   "cell_type": "code",
   "execution_count": 24,
   "metadata": {},
   "outputs": [],
   "source": [
    "quad=[[1/2,0],[1/2,1/2],[0,1/2]]\n",
    "gq=[[(f[0](x=q[0],y=q[1]),f[1](x=q[0],y=q[1])) for q in quad]  for f in grads]  "
   ]
  },
  {
   "cell_type": "markdown",
   "metadata": {},
   "source": [
    "Transformation matrix J from reference to current triangle, and its inverse:"
   ]
  },
  {
   "cell_type": "code",
   "execution_count": 25,
   "metadata": {},
   "outputs": [],
   "source": [
    "x0,x1,x2,y0,y1,y2=var(\"x0,x1,x2,y0,y1,y2\")# current triangle\n",
    "J=matrix([[x1-x0,x2-x0],[y1-y0,y2-y0]])\n",
    "det=J.determinant().simplify_rational()\n",
    "Jinv=J.inverse().simplify_rational()\n",
    "JinvDet=Jinv*det #factorize determinant.\n",
    "# transpose of J^-1 multiplied by determinant:\n",
    "JinvDetTrans=JinvDet.transpose()"
   ]
  },
  {
   "cell_type": "markdown",
   "metadata": {},
   "source": [
    "Verify that 'everything' is ok on the reference triangle:"
   ]
  },
  {
   "cell_type": "code",
   "execution_count": 26,
   "metadata": {},
   "outputs": [],
   "source": [
    "assert(det(x0=0,x1=1,y0=0,y1=0,x2=0,y2=1)==1)\n",
    "assert(JinvDetTrans(x0=0,x1=1,y0=0,y1=0,x2=0,y2=1)==identity_matrix(2,2))"
   ]
  },
  {
   "cell_type": "markdown",
   "metadata": {},
   "source": [
    "Exact integration of a function f(x,y) on the reference triangle:"
   ]
  },
  {
   "cell_type": "code",
   "execution_count": 27,
   "metadata": {},
   "outputs": [],
   "source": [
    "integreftr=lambda f: f.integral(x,0,1-y).integral(y,0,1)"
   ]
  },
  {
   "cell_type": "markdown",
   "metadata": {},
   "source": [
    "Stiffness matrix on reference triangle, exactly computed:"
   ]
  },
  {
   "cell_type": "code",
   "execution_count": 28,
   "metadata": {},
   "outputs": [],
   "source": [
    "M=matrix(QQ,6,6)\n",
    "for i in range(0,6):\n",
    "    for j in range(0,6):\n",
    "        gigj= grads[i][0]*grads[j][0]+grads[i][1]*grads[j][1]\n",
    "        M[i,j]=integreftr(gigj)        "
   ]
  },
  {
   "cell_type": "markdown",
   "metadata": {},
   "source": [
    "Stiffness matrix on reference triangle, numerically computed:"
   ]
  },
  {
   "cell_type": "code",
   "execution_count": 29,
   "metadata": {},
   "outputs": [],
   "source": [
    "MN=matrix(SR,6,6)\n",
    "Ji=JinvDetTrans\n",
    "for i in range(0,6):\n",
    "    for j in range(0,6):\n",
    "        s=0\n",
    "        for k in range(0,3):\n",
    "            V=Ji*vector(gq[i][k])\n",
    "            W=Ji*vector(gq[j][k])\n",
    "            s+=V.dot_product(W)\n",
    "        MN[i,j]=s\n",
    "MN*=(1/(6*det))"
   ]
  },
  {
   "cell_type": "markdown",
   "metadata": {},
   "source": [
    "Verify that stiffness matrix as computed by quadrature is equal to the  'exact' matrix (on the reference element !). Recall that our numerical quadrature is exact for 2nd order polynomial and that, here, we compute in $\\mathbb{Q}$ (all computations are exact)."
   ]
  },
  {
   "cell_type": "code",
   "execution_count": 30,
   "metadata": {},
   "outputs": [],
   "source": [
    "assert(MN(x0=0,x1=1,y0=0,y1=0,x2=0,y2=1)==M)"
   ]
  },
  {
   "cell_type": "markdown",
   "metadata": {},
   "source": [
    "Verify also that if v=[1,1,1,1,1,1], MN.V==0 (on any triangle):"
   ]
  },
  {
   "cell_type": "code",
   "execution_count": 31,
   "metadata": {},
   "outputs": [],
   "source": [
    "x=vector([1,1,1,1,1,1])\n",
    "assert((MN*x).simplify_full().is_zero())"
   ]
  },
  {
   "cell_type": "markdown",
   "metadata": {},
   "source": [
    "How is the stiffness matrix on the reference triangle?"
   ]
  },
  {
   "cell_type": "code",
   "execution_count": 32,
   "metadata": {},
   "outputs": [
    {
     "name": "stdout",
     "output_type": "stream",
     "text": [
      "[   1  1/6  1/6 -2/3    0 -2/3]\n",
      "[ 1/6  1/2    0 -2/3    0    0]\n",
      "[ 1/6    0  1/2    0    0 -2/3]\n",
      "[-2/3 -2/3    0  8/3 -4/3    0]\n",
      "[   0    0    0 -4/3  8/3 -4/3]\n",
      "[-2/3    0 -2/3    0 -4/3  8/3]\n"
     ]
    }
   ],
   "source": [
    "print(M)"
   ]
  },
  {
   "cell_type": "markdown",
   "metadata": {},
   "source": [
    "Define a function that will return the stiffness matrix, for x=[,,], y=[,,] containing the coordinates  of the summits of a triangle:"
   ]
  },
  {
   "cell_type": "code",
   "execution_count": 33,
   "metadata": {},
   "outputs": [],
   "source": [
    "def Stiff(x,y):\n",
    "    return MN(x0=x[0],x1=x[1],y0=y[0],y1=y[1],x2=x[2],y2=y[2])"
   ]
  },
  {
   "cell_type": "markdown",
   "metadata": {},
   "source": [
    "Do we again compute the same matrix on the reference triangle?"
   ]
  },
  {
   "cell_type": "code",
   "execution_count": 34,
   "metadata": {},
   "outputs": [],
   "source": [
    "x=vector([0,1,0])\n",
    "y=vector([0,0,1])\n",
    "assert(Stiff(x,y)==M)"
   ]
  },
  {
   "cell_type": "markdown",
   "metadata": {},
   "source": [
    "The Stiffness matrix should be invariant under dilatations and rotations. Verify this, for some values, dilating and rotating the reference element.\n",
    "\n",
    "We must rotate by angles whose sinus and cosinus are Algebraic Numbers,\n",
    " and compute in (real) Algebraic Numbers (AA for SageMath), so as to make\n",
    " again exact computations (and we choose dilatation factor in $\\mathbb{Q}$ or in Algebraic numbers):"
   ]
  },
  {
   "cell_type": "code",
   "execution_count": 35,
   "metadata": {},
   "outputs": [],
   "source": [
    "tetas=[pi/12,pi/6,pi/4,pi/3,pi/2]\n",
    "for teta in tetas:\n",
    "    Rot=matrix(AA,[[cos(teta),-sin(teta)],[sin(teta),cos(teta)]])\n",
    "    for dilat in [1/10,3/10,7/10,11/10,sqrt(2),2,sqrt(5),4,6,71/10]:\n",
    "        RotD=dilat*Rot\n",
    "        V=[RotD*vector(AA,[x[i],y[i]]) for i in range(0,3)]\n",
    "        assert(Stiff([s[0] for s in V],[s[1] for s in V])==M)"
   ]
  },
  {
   "cell_type": "markdown",
   "metadata": {},
   "source": [
    "--End--"
   ]
  }
 ],
 "metadata": {
  "kernelspec": {
   "display_name": "SageMath 8.2",
   "language": "",
   "name": "sagemath"
  },
  "language_info": {
   "codemirror_mode": {
    "name": "ipython",
    "version": 2
   },
   "file_extension": ".py",
   "mimetype": "text/x-python",
   "name": "python",
   "nbconvert_exporter": "python",
   "pygments_lexer": "ipython2",
   "version": "2.7.14"
  }
 },
 "nbformat": 4,
 "nbformat_minor": 2
}
